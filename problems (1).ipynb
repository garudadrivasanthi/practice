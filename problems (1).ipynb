{
 "cells": [
  {
   "cell_type": "code",
   "execution_count": 37,
   "id": "be059c77-40f7-403d-99d2-0d468b491002",
   "metadata": {},
   "outputs": [
    {
     "name": "stdout",
     "output_type": "stream",
     "text": [
      "[1, 2, 3, 4, 5]\n",
      "6.5\n"
     ]
    },
    {
     "ename": "SyntaxError",
     "evalue": "'return' outside function (1783607789.py, line 19)",
     "output_type": "error",
     "traceback": [
      "\u001b[1;36m  Cell \u001b[1;32mIn[37], line 19\u001b[1;36m\u001b[0m\n\u001b[1;33m    return\u001b[0m\n\u001b[1;37m    ^\u001b[0m\n\u001b[1;31mSyntaxError\u001b[0m\u001b[1;31m:\u001b[0m 'return' outside function\n"
     ]
    }
   ],
   "source": [
    "def insertion_sort(arr):\n",
    "    for i in range(1,len(arr)):\n",
    "        key=arr[i]\n",
    "        j=i-1\n",
    "        while j>=0 and key<arr[j]:\n",
    "            arr[j+1]=arr[j]\n",
    "            j-=1\n",
    "        arr[j+1]=key\n",
    "    return arr\n",
    "arr=[5,3,2,4,1]\n",
    "insertion_sort=insertion_sort(arr)\n",
    "print(insertion_sort)\n",
    "average_value=4+5/2\n",
    "print(average_value)\n",
    "for i in range(0,len(arr)):\n",
    "    if(i==average_value):\n",
    "        replace(0)\n",
    "    else:\n",
    "        return \n",
    "    "
   ]
  },
  {
   "cell_type": "code",
   "execution_count": null,
   "id": "8e63cf04-36bb-4fdc-b95b-44508e81a448",
   "metadata": {},
   "outputs": [],
   "source": [
    "QUESTION:\n",
    "Paul is given an array A of length N. He must perform the following Operations on the\n",
    "array sequentially:\n",
    "* Choose any two integers from the array and calculate their average.\n",
    "* If an element is less than the average, update it to 0. However, if the element is\n",
    "greater than or equal to the average, he need not update it.\n",
    "Your task is to help Paul find and return an integer value, representing the minimum\n",
    "possible sum of all the elements in the array by performing the above operations. Note: An exact average should be calculated, even if it results in a decimal.\n",
    "\n",
    "Input Format:\n",
    "input1: An integer value N, representing the size of the array A.\n",
    "input2: An integer array A.\n",
    "Output Format:\n",
    "Return an integer value, representing the minimum possible sum of all the elements\n",
    "in the array by\n",
    "Sample Input\n",
    "5\n",
    "1 2 3 4 5\n",
    "Sample Output\n",
    "5"
   ]
  },
  {
   "cell_type": "code",
   "execution_count": 49,
   "id": "df668c73-f5a7-4a9c-bcda-d960dbe662bb",
   "metadata": {},
   "outputs": [
    {
     "name": "stdin",
     "output_type": "stream",
     "text": [
      " 12 13 14 15\n"
     ]
    },
    {
     "name": "stdout",
     "output_type": "stream",
     "text": [
      "15\n"
     ]
    }
   ],
   "source": [
    "arr=(list(map(int,input().split())))\n",
    "arr.sort()\n",
    "a1=arr[-1]\n",
    "a2=arr[-2]\n",
    "sum=0\n",
    "avg=(a1+a2)/2\n",
    "for i in range(0,len(arr)):\n",
    "    if(arr[i]<avg):\n",
    "        arr[i]=0\n",
    "for i in range(len(arr)):\n",
    "    sum=arr[i]\n",
    "print(sum)"
   ]
  },
  {
   "cell_type": "code",
   "execution_count": null,
   "id": "f637ba31-168e-4ad4-832c-3c1265ef7152",
   "metadata": {},
   "outputs": [],
   "source": [
    "QUESTION:\n",
    "The function accepts two positive integers ‘r’ and ‘unit’ and a positive integer array ‘arr’ of size ‘n’ as its argument ‘r’ represents the number of rats present in an area, ‘unit’ is the amount of food each rat consumes and each ith element of array ‘arr’ represents the amount of food present in ‘i+1’ house number, where 0 <= i\n",
    "\n",
    "Note:\n",
    "\n",
    "Return -1 if the array is null\n",
    "Return 0 if the total amount of food from all houses is not sufficient for all the rats.\n",
    "Computed values lie within the integer range.\n",
    "Example:\n",
    "\n",
    "Input:\n",
    "\n",
    "r: 7\n",
    "unit: 2\n",
    "n: 8\n",
    "arr: 2 8 3 5 7 4 1 2\n",
    "Output:\n",
    "\n",
    "4\n",
    "\n",
    "Explanation:\n",
    "Total amount of food required for all rats = r * unit\n",
    "\n",
    "= 7 * 2 = 14.\n",
    "\n",
    "The amount of food in 1st houses = 2+8+3+5 = 18. Since, amount of food in 1st 4 houses is sufficient for all the rats. Thus, output is 4.\n",
    " "
   ]
  },
  {
   "cell_type": "code",
   "execution_count": 67,
   "id": "13d29f59-cddc-4a29-8fd5-355ae996adda",
   "metadata": {},
   "outputs": [
    {
     "name": "stdin",
     "output_type": "stream",
     "text": [
      " 7 \n",
      " 2 \n",
      " 8\n",
      " 2 8 3 5 7 4 2 1\n"
     ]
    },
    {
     "name": "stdout",
     "output_type": "stream",
     "text": [
      "4\n"
     ]
    }
   ],
   "source": [
    "r=int(input())\n",
    "u=int(input())\n",
    "n=int(input())\n",
    "arr=(list(map(int,input().split())))\n",
    "food_req=r*u\n",
    "if(len(arr)==0):\n",
    "    print(-1)\n",
    "for i in range(n):\n",
    "    food_req=food_req-arr[i]\n",
    "    if(food_req<0):\n",
    "        break\n",
    "if(food_req>0):\n",
    "    print(0)\n",
    "print(abs(food_req))"
   ]
  },
  {
   "cell_type": "code",
   "execution_count": null,
   "id": "72a3496f-5c61-472f-8982-1e5f03bb86e9",
   "metadata": {},
   "outputs": [],
   "source": [
    "QUESTION:(HOMW WORK)\n",
    "You are given a function.\n",
    "int CheckPassword(char str[], int n);\n",
    "The function accepts string str of size n as an argument. Implement the function which returns 1 if given string str is valid password else 0.\n",
    "str is a valid password if it satisfies the below conditions.\n",
    "\n",
    "– At least 4 characters\n",
    "– At least one numeric digit\n",
    "– At Least one Capital Letter\n",
    "– Must not have space or slash (/)\n",
    "– Starting character must not be a number\n",
    "Assumption:\n",
    "Input string will not be empty.\n",
    "\n",
    "Example:\n",
    "\n",
    "Input 1:\n",
    "aA1_67\n",
    "Input 2:\n",
    "a987 abC012\n",
    "\n",
    "Output 1:\n",
    "1\n",
    "Output 2:\n",
    "0 \n",
    "\n"
   ]
  },
  {
   "cell_type": "code",
   "execution_count": 73,
   "id": "aa887d5b-17b2-41ff-b619-34b15447a810",
   "metadata": {},
   "outputs": [
    {
     "name": "stdin",
     "output_type": "stream",
     "text": [
      " ABCDE2555L\n"
     ]
    },
    {
     "ename": "AttributeError",
     "evalue": "'str' object has no attribute 'isaplha'",
     "output_type": "error",
     "traceback": [
      "\u001b[1;31m---------------------------------------------------------------------------\u001b[0m",
      "\u001b[1;31mAttributeError\u001b[0m                            Traceback (most recent call last)",
      "Cell \u001b[1;32mIn[73], line 4\u001b[0m\n\u001b[0;32m      2\u001b[0m dc\u001b[38;5;241m=\u001b[39ms[\u001b[38;5;241m5\u001b[39m:\u001b[38;5;241m9\u001b[39m]\n\u001b[0;32m      3\u001b[0m start\u001b[38;5;241m=\u001b[39ms[\u001b[38;5;241m0\u001b[39m:\u001b[38;5;241m5\u001b[39m]\n\u001b[1;32m----> 4\u001b[0m \u001b[38;5;28;01mif\u001b[39;00m(\u001b[38;5;28mlen\u001b[39m(s)\u001b[38;5;241m==\u001b[39m\u001b[38;5;241m10\u001b[39m \u001b[38;5;129;01mand\u001b[39;00m s[\u001b[38;5;241m-\u001b[39m\u001b[38;5;241m1\u001b[39m]\u001b[38;5;241m.\u001b[39misalpha() \u001b[38;5;129;01mand\u001b[39;00m dc\u001b[38;5;241m.\u001b[39misdigit() \u001b[38;5;129;01mand\u001b[39;00m start\u001b[38;5;241m.\u001b[39misaplha()):\n\u001b[0;32m      5\u001b[0m     \u001b[38;5;28mprint\u001b[39m(\u001b[38;5;124m\"\u001b[39m\u001b[38;5;124myes\u001b[39m\u001b[38;5;124m\"\u001b[39m)\n\u001b[0;32m      6\u001b[0m \u001b[38;5;28;01melse\u001b[39;00m:\n",
      "\u001b[1;31mAttributeError\u001b[0m: 'str' object has no attribute 'isaplha'"
     ]
    }
   ],
   "source": [
    "s=input()\n",
    "dc=s[5:9]\n",
    "start=s[0:5]\n",
    "if(len(s)==10 and s[-1].isalpha() and dc.isdigit() and start.isaplha()):\n",
    "    print(\"yes\")\n",
    "else:\n",
    "    print(\"No\")"
   ]
  },
  {
   "cell_type": "code",
   "execution_count": 79,
   "id": "618734f1-57ec-4045-bc3d-3835a44cc1f0",
   "metadata": {},
   "outputs": [
    {
     "name": "stdin",
     "output_type": "stream",
     "text": [
      " ABCDE2255K\n"
     ]
    },
    {
     "name": "stdout",
     "output_type": "stream",
     "text": [
      "yes\n"
     ]
    }
   ],
   "source": [
    "s=input()\n",
    "dc=s[5:9]\n",
    "s1=s[0:5]\n",
    "if(len(s)==10 and s[-1].isalpha() and dc.isdigit() and start.isalpha()):\n",
    "    print(\"yes\")\n",
    "else:\n",
    "    print(\"No\")"
   ]
  },
  {
   "cell_type": "code",
   "execution_count": null,
   "id": "b2701b38-4643-4ab0-aec2-9e20fb741949",
   "metadata": {},
   "outputs": [],
   "source": [
    "QUESTION:\n",
    "Write a Python program that takes two integers n and m as input and computes a checksum using the following logic:\n",
    "•\tCount how many numbers from 1 to m are not divisible by n.\n",
    "•\tCount how many numbers from 1 to m are divisible by n.\n",
    "•\tReturn the difference between these two counts:\n",
    "not_divisible_count - divisible_count\n",
    "________________________________________\n",
    "Input Format:\n",
    "•\tFirst line: An integer n (the divisor)\n",
    "•\tSecond line: An integer m (the upper bound)\n",
    "________________________________________\n",
    "Output Format:\n",
    "•\tA single integer representing the checksum\n",
    "________________________________________\n",
    "Example Input\n",
    "n = 3\n",
    "m = 10\n",
    "Example Output:\n",
    "4\n",
    "Explanation:\n",
    "Numbers from 1 to 10:\n",
    "Divisible by 3 → 3, 6, 9 → count = 3\n",
    "Not divisible by 3 → 1, 2, 4, 5, 7, 8, 10 → count = 7\n",
    "Checksum = 7 - 3 = 4"
   ]
  },
  {
   "cell_type": "code",
   "execution_count": 81,
   "id": "856ef56f-62e1-40f6-b044-2d03eb66a68e",
   "metadata": {},
   "outputs": [
    {
     "name": "stdin",
     "output_type": "stream",
     "text": [
      " 3\n",
      " 10\n"
     ]
    },
    {
     "name": "stdout",
     "output_type": "stream",
     "text": [
      "4\n"
     ]
    }
   ],
   "source": [
    "n=int(input())\n",
    "m=int(input())\n",
    "count_divisible=0\n",
    "count_notdivisible=0\n",
    "for i in range(1,m+1):\n",
    "    if(i%n!=0):\n",
    "        count_notdivisible+=1\n",
    "    else:\n",
    "        count_divisible+=1\n",
    "print(abs(count_divisible-count_notdivisible))\n"
   ]
  },
  {
   "cell_type": "code",
   "execution_count": null,
   "id": "a435d18c-2384-4f76-b575-df13754fbce0",
   "metadata": {},
   "outputs": [],
   "source": []
  }
 ],
 "metadata": {
  "kernelspec": {
   "display_name": "Python [conda env:base] *",
   "language": "python",
   "name": "conda-base-py"
  },
  "language_info": {
   "codemirror_mode": {
    "name": "ipython",
    "version": 3
   },
   "file_extension": ".py",
   "mimetype": "text/x-python",
   "name": "python",
   "nbconvert_exporter": "python",
   "pygments_lexer": "ipython3",
   "version": "3.12.7"
  }
 },
 "nbformat": 4,
 "nbformat_minor": 5
}
