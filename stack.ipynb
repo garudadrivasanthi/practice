{
 "cells": [
  {
   "cell_type": "code",
   "execution_count": 77,
   "id": "fb62eb6b-5b43-41bf-bcb9-e2cae0379fbb",
   "metadata": {},
   "outputs": [
    {
     "name": "stdout",
     "output_type": "stream",
     "text": [
      "top element=30\n",
      "30\n",
      "10\n"
     ]
    }
   ],
   "source": [
    "stack=[]\n",
    "top=-1\n",
    "def push(value):\n",
    "    global top\n",
    "    stack.append(value)\n",
    "    top+=1\n",
    "def pop():\n",
    "    global top\n",
    "    if top==-1:\n",
    "       print(\"stack is empty.nothing to pop\")\n",
    "       return\n",
    "    else:\n",
    "        stack.pop()\n",
    "        top-=1\n",
    "def peek():\n",
    "    if top==-1:\n",
    "        return \"stack is empty.no top element is there\"\n",
    "    else:\n",
    "        return f\"top element={stack[top]}\"\n",
    "def display():\n",
    "    if(top==-1):\n",
    "        print(\"empty\")\n",
    "    else:\n",
    "        for i in range(top,-1,-1):\n",
    "            print(stack[i])\n",
    "#top=-1\n",
    "push(10)\n",
    "push(30)\n",
    "push(50)\n",
    "push(70)\n",
    "pop()\n",
    "pop()\n",
    "print(peek())\n",
    "display()"
   ]
  },
  {
   "cell_type": "code",
   "execution_count": null,
   "id": "8c9273e9-fd53-42d6-b252-6148cc95e217",
   "metadata": {},
   "outputs": [],
   "source": []
  },
  {
   "cell_type": "code",
   "execution_count": 103,
   "id": "a3591e6c-5631-4b3e-80b1-f7f452640b10",
   "metadata": {},
   "outputs": [
    {
     "name": "stdin",
     "output_type": "stream",
     "text": [
      "enter the choice 1\n",
      "enter the element you want 2\n",
      "enter the value: 3\n"
     ]
    }
   ],
   "source": [
    "def push(value):\n",
    "    value=input(\"enter the value:\")\n",
    "    return \"push\"\n",
    "def pop():\n",
    "    value=input(\"enter the value:\")\n",
    "    return \"pop\"\n",
    "def display():\n",
    "    value=input(\"enter the value:\")\n",
    "    return \"display\"\n",
    "choice=int(input(\"enter the choice\"))\n",
    "if choice==1:\n",
    "    value=int(input(\"enter the element you want\"))\n",
    "    push(value)\n",
    "elif choice==2:\n",
    "    pop(value)\n",
    "elif choice==3:\n",
    "    print(peek)\n",
    "elif choice==4:\n",
    "    display()\n",
    "else:\n",
    "    print(\"exit\")\n",
    "    break"
   ]
  },
  {
   "cell_type": "code",
   "execution_count": null,
   "id": "15b62b53-56cc-4c9d-9669-90817df78e2a",
   "metadata": {},
   "outputs": [],
   "source": []
  },
  {
   "cell_type": "code",
   "execution_count": null,
   "id": "bc3262aa-53d4-4fb9-820a-54dab1126768",
   "metadata": {},
   "outputs": [],
   "source": [
    "while True:\n",
    "    print(\"\\n-------WELCOME--------\")\n",
    "    print(\"1.push\")\n",
    "    print(\"2.pop\")\n",
    "    print(\"3.peek\")\n",
    "    print(\"4.display\")\n",
    "    print(\"5.exit\")\n",
    "    choice=int(input(\"enter the choice\"))\n",
    "    if choice==1:\n",
    "        value=int(input(\"enter the element you want\"))\n",
    "        push(value)\n",
    "    elif choice==2:\n",
    "        pop(value)\n",
    "    elif choice==3:\n",
    "        print(peek)\n",
    "    elif choice==4:\n",
    "        display()\n",
    "    else:\n",
    "        print(\"exit\")\n",
    "        break        \n",
    "    "
   ]
  },
  {
   "cell_type": "code",
   "execution_count": null,
   "id": "590f083b-cf27-44cb-b6e8-b8ec3eb9c90a",
   "metadata": {},
   "outputs": [],
   "source": []
  },
  {
   "cell_type": "code",
   "execution_count": null,
   "id": "c6eaa6e6-5e89-426b-bdab-9f0bb98e0a6f",
   "metadata": {},
   "outputs": [],
   "source": []
  }
 ],
 "metadata": {
  "kernelspec": {
   "display_name": "Python [conda env:base] *",
   "language": "python",
   "name": "conda-base-py"
  },
  "language_info": {
   "codemirror_mode": {
    "name": "ipython",
    "version": 3
   },
   "file_extension": ".py",
   "mimetype": "text/x-python",
   "name": "python",
   "nbconvert_exporter": "python",
   "pygments_lexer": "ipython3",
   "version": "3.12.7"
  }
 },
 "nbformat": 4,
 "nbformat_minor": 5
}
