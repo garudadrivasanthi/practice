{
 "cells": [
  {
   "cell_type": "code",
   "execution_count": 11,
   "id": "ccb590b5-1b36-4d9d-933b-8fe38d6c5c4a",
   "metadata": {},
   "outputs": [
    {
     "name": "stdout",
     "output_type": "stream",
     "text": [
      "5\n"
     ]
    }
   ],
   "source": [
    "def binary_search(arr,target):\n",
    "    start=0\n",
    "    end=len(arr)-1\n",
    "    mid=(start+end)//2\n",
    "    while(start<=mid):\n",
    "        if(arr[mid]==target):\n",
    "            return mid\n",
    "        elif(target>arr[mid]):\n",
    "            start=mid+1\n",
    "        else:\n",
    "            end=mid-1\n",
    "        mid=(start+end)//2\n",
    "    return-1\n",
    "arr=[4,5,6,7,8,9,10,11,12]\n",
    "target=9\n",
    "result=binary_search(arr,target)\n",
    "print(result)"
   ]
  },
  {
   "cell_type": "code",
   "execution_count": 17,
   "id": "f24c8346-5a59-4d42-8dba-18b1bf6650b7",
   "metadata": {},
   "outputs": [
    {
     "name": "stdout",
     "output_type": "stream",
     "text": [
      "[4, 12, 30, 45, 49]\n"
     ]
    }
   ],
   "source": [
    "def merge_sort(arr,start=0,end=None):\n",
    "    if end is None:\n",
    "        end=len(arr)-1\n",
    "    if start<end:\n",
    "        mid=(start+end)//2\n",
    "        merge_sort(arr,start,mid)\n",
    "        merge_sort(arr,mid+1)\n",
    "        merge(arr,start,mid,end)\n",
    "def merge(arr,start,mid,end):\n",
    "    left=arr[start:mid+1]\n",
    "    right=arr[mid+1:end+1]\n",
    "    i=j=0\n",
    "    k=start\n",
    "    while i<len(left) and j<len(right):\n",
    "        if left[i]<=right[j]:\n",
    "            arr[k]=left[i]\n",
    "            i+=1\n",
    "        else:\n",
    "            arr[k]=right[j]\n",
    "            j+=1\n",
    "        k+=1\n",
    "    while i<len(left):\n",
    "        arr[k]=left[i]\n",
    "        i+=1\n",
    "        k+=1\n",
    "    while j<len(right):\n",
    "        arr[k]=right[j]\n",
    "        j+=1\n",
    "        k+=1\n",
    "arr=[30,12,4,49,45]\n",
    "merge_sort(arr)\n",
    "print(arr)"
   ]
  },
  {
   "cell_type": "code",
   "execution_count": null,
   "id": "5a2d697e-cd86-489e-8827-dcb57da4ff2b",
   "metadata": {},
   "outputs": [],
   "source": []
  }
 ],
 "metadata": {
  "kernelspec": {
   "display_name": "Python [conda env:base] *",
   "language": "python",
   "name": "conda-base-py"
  },
  "language_info": {
   "codemirror_mode": {
    "name": "ipython",
    "version": 3
   },
   "file_extension": ".py",
   "mimetype": "text/x-python",
   "name": "python",
   "nbconvert_exporter": "python",
   "pygments_lexer": "ipython3",
   "version": "3.12.7"
  }
 },
 "nbformat": 4,
 "nbformat_minor": 5
}
