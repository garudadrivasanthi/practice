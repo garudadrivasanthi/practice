{
 "cells": [
  {
   "cell_type": "code",
   "execution_count": null,
   "id": "1e5bae07-c544-4747-8ec2-b92cdeb8a80e",
   "metadata": {},
   "outputs": [],
   "source": [
    "📝 Problem Statement:\n",
    "A company maintains a daily shift schedule for its employees, where each employee is assigned a fixed position in an array based on their order of work on Day 1.\n",
    "\n",
    "To ensure fairness in work distribution, the company follows a policy where the schedule is adjusted every morning: the first d employees are moved to the end of the schedule, preserving their order.\n",
    "\n",
    "You are given the list of employee IDs for Day 1 and the value d. Write a program to compute the new schedule after applying this policy.\n",
    "Input:\n",
    "schedule = [101, 102, 103, 104, 105]\n",
    "d = 2\n",
    "\n",
    "Output:\n",
    "[103, 104, 105, 101, 102]\n",
    "\n",
    "Explanation:\n",
    "Employees 101 and 102 are shifted to the end of the schedule.\n"
   ]
  },
  {
   "cell_type": "code",
   "execution_count": 18,
   "id": "1401aa29-8a00-4c4b-b22b-410805853322",
   "metadata": {},
   "outputs": [
    {
     "name": "stdout",
     "output_type": "stream",
     "text": [
      "[103, 104, 105, 101, 102]\n"
     ]
    }
   ],
   "source": [
    "arr=[101, 102, 103, 104, 105]\n",
    "n=len(arr)\n",
    "temp=[0]*n\n",
    "d=2\n",
    "for i in range(len(arr)):\n",
    "    temp[(n-d+i)%n]=arr[i]\n",
    "for i in range(len(arr)):\n",
    "    arr[i]=temp[i]\n",
    "print(arr)"
   ]
  },
  {
   "cell_type": "code",
   "execution_count": null,
   "id": "21f651ec-4f81-4042-8974-f46e43d9e1f2",
   "metadata": {},
   "outputs": [],
   "source": []
  }
 ],
 "metadata": {
  "kernelspec": {
   "display_name": "Python [conda env:base] *",
   "language": "python",
   "name": "conda-base-py"
  },
  "language_info": {
   "codemirror_mode": {
    "name": "ipython",
    "version": 3
   },
   "file_extension": ".py",
   "mimetype": "text/x-python",
   "name": "python",
   "nbconvert_exporter": "python",
   "pygments_lexer": "ipython3",
   "version": "3.12.7"
  }
 },
 "nbformat": 4,
 "nbformat_minor": 5
}
