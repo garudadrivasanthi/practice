{
 "cells": [
  {
   "cell_type": "code",
   "execution_count": 1,
   "id": "6febf87e-2092-4ec2-99c1-0d25f0a9c7d4",
   "metadata": {},
   "outputs": [],
   "source": [
    "class queue:\n",
    "    def __init__(self,Q,value):\n",
    "        self.Q=Q\n",
    "        self.value=value\n",
    "    def enqueue(self,Q,value):\n",
    "        return Q.append(value)"
   ]
  },
  {
   "cell_type": "code",
   "execution_count": null,
   "id": "6adb2d97-6c2a-462f-acb4-d2fe053301e0",
   "metadata": {},
   "outputs": [],
   "source": [
    "class queue:\n",
    "    def __init__(self,value):\n",
    "        Q=[]\n",
    "        self.value=value\n",
    "        self.front=-1\n",
    "        self.rare=-1\n",
    "    def enqueue(self,Q,value):\n",
    "        return Q.append(value)\n",
    "    def denqueue(self,Q):\n",
    "        return Q.pop()\n",
    "    "
   ]
  },
  {
   "cell_type": "code",
   "execution_count": 6,
   "id": "c543fa01-e781-4200-b1ab-577e7c452bad",
   "metadata": {},
   "outputs": [],
   "source": [
    "class queue:\n",
    "    def __init__(self,value):\n",
    "        Q=[]\n",
    "        self.value=value\n",
    "        self.front=-1\n",
    "        self.rare=-1\n",
    "    def enqueue(self,Q,value):\n",
    "        return Q.append(value)\n",
    "    def denqueue(self,Q):\n",
    "        return Q.pop()\n",
    "    "
   ]
  },
  {
   "cell_type": "code",
   "execution_count": 20,
   "id": "4e48e247-8366-43cd-9ed1-c322f8929307",
   "metadata": {},
   "outputs": [
    {
     "ename": "TypeError",
     "evalue": "queue.__init__() missing 1 required positional argument: 'value'",
     "output_type": "error",
     "traceback": [
      "\u001b[1;31m---------------------------------------------------------------------------\u001b[0m",
      "\u001b[1;31mTypeError\u001b[0m                                 Traceback (most recent call last)",
      "Cell \u001b[1;32mIn[20], line 31\u001b[0m\n\u001b[0;32m     29\u001b[0m         \u001b[38;5;28;01melse\u001b[39;00m:\n\u001b[0;32m     30\u001b[0m             \u001b[38;5;28mprint\u001b[39m(\u001b[38;5;28mself\u001b[39m\u001b[38;5;241m.\u001b[39mq[\u001b[38;5;28mself\u001b[39m\u001b[38;5;241m.\u001b[39mfront:\u001b[38;5;28mself\u001b[39m\u001b[38;5;241m.\u001b[39mrare\u001b[38;5;241m+\u001b[39m\u001b[38;5;241m1\u001b[39m])        \n\u001b[1;32m---> 31\u001b[0m q\u001b[38;5;241m=\u001b[39mqueue()\n\u001b[0;32m     32\u001b[0m q\u001b[38;5;241m.\u001b[39menqueue(\u001b[38;5;241m2000\u001b[39m)\n\u001b[0;32m     33\u001b[0m q\u001b[38;5;241m.\u001b[39mdisplay()\n",
      "\u001b[1;31mTypeError\u001b[0m: queue.__init__() missing 1 required positional argument: 'value'"
     ]
    }
   ],
   "source": [
    "class queue:\n",
    "    def __init__(self,value):\n",
    "        Q=[]\n",
    "        self.value=value\n",
    "        self.front=-1\n",
    "        self.rare=-1\n",
    "    def enqueue(self,Q,value):\n",
    "        if(Self.front==-1):\n",
    "            self.front=0\n",
    "        self.rare=self.rare+1\n",
    "        self.Q.append(value)\n",
    "    def dequeue(self):\n",
    "        if self.is_empty():\n",
    "            return \"Queue is empty\"\n",
    "        value=self.aueue[self.front]\n",
    "        self.front+=1\n",
    "        if self.front>self.rare:\n",
    "            self.front=self.rare=-1\n",
    "        return value\n",
    "    def is_empty(self):\n",
    "        return self.front==-1\n",
    "    def size(self):\n",
    "        if self.is_empty():\n",
    "            return 0\n",
    "        return self.front.self.rare-1\n",
    "    def display(self):\n",
    "        if self.is_empty():\n",
    "            print(\"queue is empty\")\n",
    "        else:\n",
    "            print(self.q[self.front:self.rare+1])        \n",
    "q=queue()\n",
    "q.enqueue(2000)\n",
    "q.display()"
   ]
  },
  {
   "cell_type": "code",
   "execution_count": null,
   "id": "fb3e3195-b451-4442-8827-79aa0d61c00b",
   "metadata": {},
   "outputs": [],
   "source": [
    "    "
   ]
  }
 ],
 "metadata": {
  "kernelspec": {
   "display_name": "Python [conda env:base] *",
   "language": "python",
   "name": "conda-base-py"
  },
  "language_info": {
   "codemirror_mode": {
    "name": "ipython",
    "version": 3
   },
   "file_extension": ".py",
   "mimetype": "text/x-python",
   "name": "python",
   "nbconvert_exporter": "python",
   "pygments_lexer": "ipython3",
   "version": "3.12.7"
  }
 },
 "nbformat": 4,
 "nbformat_minor": 5
}
