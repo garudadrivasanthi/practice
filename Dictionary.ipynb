{
 "cells": [
  {
   "cell_type": "code",
   "execution_count": 7,
   "id": "cd614909-e5e7-48da-a3b5-92064012f190",
   "metadata": {},
   "outputs": [
    {
     "name": "stdout",
     "output_type": "stream",
     "text": [
      "items in dictionary: {'a': 1, 'b': 2, 'c': 3, 'd': 4}\n",
      "value for key'a':1\n",
      "keys in dictionary: dict_keys(['a', 'b', 'c', 'd'])\n"
     ]
    }
   ],
   "source": [
    "dict={}\n",
    "items_dict={'a':1,'b':2,'c':3,'d':4}\n",
    "print(\"items in dictionary:\",items_dict)\n",
    "values=items_dict.items()\n",
    "print(\"value for key'a':1\")\n",
    "keys=items_dict.keys()\n",
    "print(\"keys in dictionary:\",keys)"
   ]
  },
  {
   "cell_type": "markdown",
   "id": "efcc3765-d903-45c6-bdc9-d16b405a518b",
   "metadata": {},
   "source": [
    "#find the occurrance of number\n",
    "input:1,2,3,4,4,3,2,1,1,1,2,2,3,3,4,4\n",
    "Expected output:1-4,2-4,3-4,4-4"
   ]
  },
  {
   "cell_type": "code",
   "execution_count": 21,
   "id": "4d0ce7b9-4d3f-4987-b51d-3692f07b9de5",
   "metadata": {},
   "outputs": [
    {
     "name": "stdout",
     "output_type": "stream",
     "text": [
      "1 4\n",
      "2 4\n",
      "3 4\n",
      "4 4\n"
     ]
    }
   ],
   "source": [
    "def count_frequencies(arr):\n",
    "    freq={}\n",
    "    for num in arr:\n",
    "        freq[num]=freq.get(num,0)+1\n",
    "    return freq\n",
    "arr=[1,2,3,4,4,3,2,1,1,1,2,2,3,3,4,4]\n",
    "frequencies=count_frequencies(arr)\n",
    "for i,count in frequencies.items():\n",
    "    print(i,count)\n",
    "    "
   ]
  },
  {
   "cell_type": "code",
   "execution_count": null,
   "id": "fb9a0c06-1bbf-490c-908d-f3b9228ce846",
   "metadata": {},
   "outputs": [],
   "source": [
    "#find the no.that appears more than once\n",
    "input:1,2,3,4,4\n",
    "output:4"
   ]
  },
  {
   "cell_type": "code",
   "execution_count": null,
   "id": "6d487675-516e-4759-906c-f2c55c9435af",
   "metadata": {},
   "outputs": [],
   "source": [
    "input:1,2,2,2,4,3,3,1\n",
    "output:return max,min------[2,4]"
   ]
  },
  {
   "cell_type": "code",
   "execution_count": 36,
   "id": "610c9673-40f8-4613-9d00-6d39ace63211",
   "metadata": {},
   "outputs": [
    {
     "name": "stdout",
     "output_type": "stream",
     "text": [
      "{1: 2, 2: 3, 4: 1, 3: 3, 10: 1}\n",
      "maximun frequency number: 2\n",
      "minimum frequency number: 4\n"
     ]
    }
   ],
   "source": [
    "arr=[1,2,2,2,4,3,3,3,1,10]\n",
    "freq={}\n",
    "for num in arr:\n",
    "    freq[num]=freq.get(num,0)+1\n",
    "print(freq)\n",
    "maxi=max(freq,key=freq.get)\n",
    "mini=min(freq,key=freq.get)\n",
    "print(\"maximun frequency number:\",maxi)\n",
    "print(\"minimum frequency number:\",mini)   "
   ]
  },
  {
   "cell_type": "code",
   "execution_count": null,
   "id": "cee94f82-9cc3-4c80-ae2d-e066c2618ddf",
   "metadata": {},
   "outputs": [],
   "source": []
  },
  {
   "cell_type": "code",
   "execution_count": null,
   "id": "c0a88a8e-99b5-447f-ab49-b948b43eedeb",
   "metadata": {},
   "outputs": [],
   "source": []
  }
 ],
 "metadata": {
  "kernelspec": {
   "display_name": "Python [conda env:base] *",
   "language": "python",
   "name": "conda-base-py"
  },
  "language_info": {
   "codemirror_mode": {
    "name": "ipython",
    "version": 3
   },
   "file_extension": ".py",
   "mimetype": "text/x-python",
   "name": "python",
   "nbconvert_exporter": "python",
   "pygments_lexer": "ipython3",
   "version": "3.12.7"
  }
 },
 "nbformat": 4,
 "nbformat_minor": 5
}
