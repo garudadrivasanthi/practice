{
 "cells": [
  {
   "cell_type": "code",
   "execution_count": 50,
   "id": "25cb32fb-33f4-4123-874d-b367110d4154",
   "metadata": {},
   "outputs": [
    {
     "name": "stdout",
     "output_type": "stream",
     "text": [
      "10 20 900 inorder_traversal\n",
      "20 10 900 preorder_traversal\n",
      "10 900 20 postorder_traversal\n",
      "\n",
      "\n",
      "2\n"
     ]
    }
   ],
   "source": [
    "class Node:\n",
    "    def __init__(self,data):\n",
    "        self.left=None\n",
    "        self.right=None\n",
    "        self.data=data\n",
    "class bst:\n",
    "    def __init__(self):\n",
    "        self.root=None\n",
    "    def insert(self,data,root):\n",
    "        if(root is None):\n",
    "            return Node(data)\n",
    "        if(data<root.data):\n",
    "            root.left=self.insert(data,root.left)\n",
    "        elif(data>root.data):\n",
    "            root.right=self.insert(data,root.right)\n",
    "        return root\n",
    "    def inorder_traversal(self,root):\n",
    "        if root:\n",
    "            self.inorder_traversal(root.left)\n",
    "            print(root.data,end=\" \")\n",
    "            self.inorder_traversal(root.right)\n",
    "    def preorder_traversal(self,root):\n",
    "        if root:\n",
    "            print(root.data,end=\" \")\n",
    "            self.preorder_traversal(root.left)\n",
    "            self.preorder_traversal(root.right)\n",
    "    def postorder_traversal(self,root):\n",
    "        if root:\n",
    "            self.postorder_traversal(root.left)\n",
    "            self.postorder_traversal(root.right)\n",
    "            print(root.data,end=\" \")\n",
    "    def search_in_bst(self,root,key):\n",
    "        if(key<root.data):\n",
    "            return True\n",
    "        if(root is None):\n",
    "            return False\n",
    "        if(key<root.data):\n",
    "            return self.search_in_bst(root.left,key)\n",
    "        elif(key>root.data):\n",
    "            return self.search_in_bst(root.right,key)\n",
    "        else:\n",
    "            return True  \n",
    "    def height(self,root):\n",
    "        if(root is None):\n",
    "            return 0\n",
    "        else:\n",
    "            return 1+max(self.height(root.left),self.height(root.right))\n",
    "\n",
    "bst_tree=bst()\n",
    "root=None\n",
    "root=bst_tree.insert(20,root)\n",
    "root=bst_tree.insert(10,root)\n",
    "root=bst_tree.insert(900,root)\n",
    "bst_tree.inorder_traversal(root)\n",
    "print(\"inorder_traversal\")\n",
    "bst_tree.preorder_traversal(root)\n",
    "print(\"preorder_traversal\")\n",
    "bst_tree.postorder_traversal(root)\n",
    "print(\"postorder_traversal\")\n",
    "print(\"\\n\")\n",
    "print(bst_tree.height(root))"
   ]
  }
 ],
 "metadata": {
  "kernelspec": {
   "display_name": "Python [conda env:base] *",
   "language": "python",
   "name": "conda-base-py"
  },
  "language_info": {
   "codemirror_mode": {
    "name": "ipython",
    "version": 3
   },
   "file_extension": ".py",
   "mimetype": "text/x-python",
   "name": "python",
   "nbconvert_exporter": "python",
   "pygments_lexer": "ipython3",
   "version": "3.12.7"
  }
 },
 "nbformat": 4,
 "nbformat_minor": 5
}
